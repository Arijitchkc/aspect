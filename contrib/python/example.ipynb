{
 "cells": [
  {
   "cell_type": "markdown",
   "metadata": {},
   "source": [
    "# Example on how to use Python to read the output files from ASPECT.\n",
    "\n",
    "We start by importing the packages needed and the functions from the file read_files.py:"
   ]
  },
  {
   "cell_type": "code",
   "execution_count": 1,
   "metadata": {},
   "outputs": [],
   "source": [
    "%matplotlib inline  \n",
    "## This allows figures to be plotted \"inline\". \n",
    "## In a normal python script, you use plt.show() to see the figures, \n",
    "## or plt.savefig(\"name.pdf\") to save the figures \n",
    "## (you can also use this command in the notebooks)\n",
    "\n",
    "import numpy as np  # for mathematical functions and arrays\n",
    "import matplotlib.pyplot as plt  # for plot\n",
    "import pandas as pd # for data analysis\n",
    "from scipy.interpolate import griddata\n",
    "## We use short names for the libraries we use a lot.\n",
    "\n",
    "import io \n",
    "import os\n",
    "from subprocess import run\n",
    "\n",
    "import aspect_data"
   ]
  },
  {
   "cell_type": "markdown",
   "metadata": {},
   "source": [
    "# Running aspect from the notebook \n",
    "\n",
    "You may want to modify the path for the aspect build folder. \n",
    "\n",
    "A run will provide the output files that we are then reading later. "
   ]
  },
  {
   "cell_type": "code",
   "execution_count": 2,
   "metadata": {},
   "outputs": [],
   "source": [
    "input_file = \"convection-box.prm\"     \n",
    "aspect_bin = \"../../build/aspect\"          # Path to aspect executable\n",
    "output_dir = \"./output/\"                      # Output directory\n",
    "\n",
    "def run_aspect():\n",
    "    run(['rm','-rf',output_dir])\n",
    "    run([aspect_bin,input_file])\n",
    "    \n",
    "run_aspect()"
   ]
  },
  {
   "cell_type": "markdown",
   "metadata": {},
   "source": [
    "# Parameter file\n",
    "\n",
    "Sometimes, it's useful to be able to access the values for the parameters inside the parameter file, especially if you are exploring a large parameter space. \n",
    "\n",
    "You can read the parameter file with the function read_files.read_parameter_file(filename)"
   ]
  },
  {
   "cell_type": "code",
   "execution_count": 3,
   "metadata": {},
   "outputs": [],
   "source": [
    "param_file = output_dir+\"original.prm\"\n",
    "param = aspect_data.read_parameter_file(param_file)"
   ]
  },
  {
   "cell_type": "markdown",
   "metadata": {},
   "source": [
    "The param variable is then a dictionnary that include all the parameters that have been defined in the original parameter file. One can then access the values using the same names than the subsections in the .prm file. "
   ]
  },
  {
   "cell_type": "code",
   "execution_count": 4,
   "metadata": {},
   "outputs": [
    {
     "name": "stdout",
     "output_type": "stream",
     "text": [
      "{'Model name': ['simple']}\n",
      "{'Reference density': ['1'], 'Reference specific heat': ['1'], 'Reference temperature': ['0'], 'Thermal conductivity': ['1'], 'Thermal expansion coefficient': ['1'], 'Viscosity': ['1']}\n"
     ]
    }
   ],
   "source": [
    "print(param[\"Material model\"])\n",
    "print(param[\"Material model: Simple model\"])"
   ]
  },
  {
   "cell_type": "markdown",
   "metadata": {},
   "source": [
    "## File statistics\n",
    "\n",
    "The file statistics regroup all the statistics for everytime steps. It can be a very long file, so pandas (a package for data analysis) is the best tool to open and read it. \n",
    "The number of columns depends on your run, and is indicated as comments at the beginning of the file. The function read_statistics() will first read the comments, extracts the names of the columns and then read the file with pd.read_csv(). \n",
    "\n",
    "Here, we use an example of a run with a 1D column. All the output files are in the folder ./example. "
   ]
  },
  {
   "cell_type": "code",
   "execution_count": 5,
   "metadata": {},
   "outputs": [],
   "source": [
    "# we provide the name for the file statistics:\n",
    "statistics = output_dir+ \"statistics\"\n",
    "\n",
    "# we read the file with our function:\n",
    "data =  aspect_data.read_statistics(statistics)"
   ]
  },
  {
   "cell_type": "markdown",
   "metadata": {},
   "source": [
    "The output of the function is a pandas dataframe, where all datas are in a big table where the columns have human-readable names. We can have a look at the table wit data.head()"
   ]
  },
  {
   "cell_type": "code",
   "execution_count": 6,
   "metadata": {},
   "outputs": [
    {
     "data": {
      "text/html": [
       "<div>\n",
       "<style scoped>\n",
       "    .dataframe tbody tr th:only-of-type {\n",
       "        vertical-align: middle;\n",
       "    }\n",
       "\n",
       "    .dataframe tbody tr th {\n",
       "        vertical-align: top;\n",
       "    }\n",
       "\n",
       "    .dataframe thead th {\n",
       "        text-align: right;\n",
       "    }\n",
       "</style>\n",
       "<table border=\"1\" class=\"dataframe\">\n",
       "  <thead>\n",
       "    <tr style=\"text-align: right;\">\n",
       "      <th></th>\n",
       "      <th>Time step number</th>\n",
       "      <th>Time (seconds)</th>\n",
       "      <th>Time step size (seconds)</th>\n",
       "      <th>Number of mesh cells</th>\n",
       "      <th>Number of Stokes degrees of freedom</th>\n",
       "      <th>Number of temperature degrees of freedom</th>\n",
       "      <th>Iterations for temperature solver</th>\n",
       "      <th>Iterations for Stokes solver</th>\n",
       "      <th>Velocity iterations in Stokes preconditioner</th>\n",
       "      <th>Schur complement iterations in Stokes preconditioner</th>\n",
       "      <th>...</th>\n",
       "      <th>Max. velocity (m/s)</th>\n",
       "      <th>Minimal temperature (K)</th>\n",
       "      <th>Average temperature (K)</th>\n",
       "      <th>Maximal temperature (K)</th>\n",
       "      <th>Average nondimensional temperature (K)</th>\n",
       "      <th>Outward heat flux through boundary with indicator 0 (\"left\") (W)</th>\n",
       "      <th>Outward heat flux through boundary with indicator 1 (\"right\") (W)</th>\n",
       "      <th>Outward heat flux through boundary with indicator 2 (\"bottom\") (W)</th>\n",
       "      <th>Outward heat flux through boundary with indicator 3 (\"top\") (W)</th>\n",
       "      <th>Visualization file name</th>\n",
       "    </tr>\n",
       "  </thead>\n",
       "  <tbody>\n",
       "    <tr>\n",
       "      <th>0</th>\n",
       "      <td>0</td>\n",
       "      <td>0.000000</td>\n",
       "      <td>0.000000</td>\n",
       "      <td>256</td>\n",
       "      <td>2467</td>\n",
       "      <td>1089</td>\n",
       "      <td>0</td>\n",
       "      <td>31</td>\n",
       "      <td>33</td>\n",
       "      <td>32</td>\n",
       "      <td>...</td>\n",
       "      <td>2.531770</td>\n",
       "      <td>0.0</td>\n",
       "      <td>0.5</td>\n",
       "      <td>1.0</td>\n",
       "      <td>0.5</td>\n",
       "      <td>0.0</td>\n",
       "      <td>0.0</td>\n",
       "      <td>-1.000000</td>\n",
       "      <td>1.000000</td>\n",
       "      <td>output/solution/solution-00000</td>\n",
       "    </tr>\n",
       "    <tr>\n",
       "      <th>1</th>\n",
       "      <td>1</td>\n",
       "      <td>0.012337</td>\n",
       "      <td>0.012337</td>\n",
       "      <td>256</td>\n",
       "      <td>2467</td>\n",
       "      <td>1089</td>\n",
       "      <td>31</td>\n",
       "      <td>32</td>\n",
       "      <td>34</td>\n",
       "      <td>34</td>\n",
       "      <td>...</td>\n",
       "      <td>8.377950</td>\n",
       "      <td>0.0</td>\n",
       "      <td>0.5</td>\n",
       "      <td>1.0</td>\n",
       "      <td>0.5</td>\n",
       "      <td>0.0</td>\n",
       "      <td>0.0</td>\n",
       "      <td>-1.006876</td>\n",
       "      <td>1.006876</td>\n",
       "      <td>output/solution/solution-00001</td>\n",
       "    </tr>\n",
       "    <tr>\n",
       "      <th>2</th>\n",
       "      <td>2</td>\n",
       "      <td>0.016065</td>\n",
       "      <td>0.003728</td>\n",
       "      <td>256</td>\n",
       "      <td>2467</td>\n",
       "      <td>1089</td>\n",
       "      <td>20</td>\n",
       "      <td>31</td>\n",
       "      <td>33</td>\n",
       "      <td>33</td>\n",
       "      <td>...</td>\n",
       "      <td>15.479564</td>\n",
       "      <td>0.0</td>\n",
       "      <td>0.5</td>\n",
       "      <td>1.0</td>\n",
       "      <td>0.5</td>\n",
       "      <td>0.0</td>\n",
       "      <td>0.0</td>\n",
       "      <td>-1.023201</td>\n",
       "      <td>1.023201</td>\n",
       "      <td>NaN</td>\n",
       "    </tr>\n",
       "    <tr>\n",
       "      <th>3</th>\n",
       "      <td>3</td>\n",
       "      <td>0.018083</td>\n",
       "      <td>0.002018</td>\n",
       "      <td>256</td>\n",
       "      <td>2467</td>\n",
       "      <td>1089</td>\n",
       "      <td>15</td>\n",
       "      <td>30</td>\n",
       "      <td>32</td>\n",
       "      <td>32</td>\n",
       "      <td>...</td>\n",
       "      <td>22.948809</td>\n",
       "      <td>0.0</td>\n",
       "      <td>0.5</td>\n",
       "      <td>1.0</td>\n",
       "      <td>0.5</td>\n",
       "      <td>0.0</td>\n",
       "      <td>0.0</td>\n",
       "      <td>-1.048978</td>\n",
       "      <td>1.048978</td>\n",
       "      <td>NaN</td>\n",
       "    </tr>\n",
       "    <tr>\n",
       "      <th>4</th>\n",
       "      <td>4</td>\n",
       "      <td>0.019444</td>\n",
       "      <td>0.001361</td>\n",
       "      <td>256</td>\n",
       "      <td>2467</td>\n",
       "      <td>1089</td>\n",
       "      <td>13</td>\n",
       "      <td>29</td>\n",
       "      <td>31</td>\n",
       "      <td>31</td>\n",
       "      <td>...</td>\n",
       "      <td>30.430303</td>\n",
       "      <td>0.0</td>\n",
       "      <td>0.5</td>\n",
       "      <td>1.0</td>\n",
       "      <td>0.5</td>\n",
       "      <td>0.0</td>\n",
       "      <td>0.0</td>\n",
       "      <td>-1.084120</td>\n",
       "      <td>1.084120</td>\n",
       "      <td>NaN</td>\n",
       "    </tr>\n",
       "  </tbody>\n",
       "</table>\n",
       "<p>5 rows × 21 columns</p>\n",
       "</div>"
      ],
      "text/plain": [
       "   Time step number  Time (seconds)  Time step size (seconds)  \\\n",
       "0                 0        0.000000                  0.000000   \n",
       "1                 1        0.012337                  0.012337   \n",
       "2                 2        0.016065                  0.003728   \n",
       "3                 3        0.018083                  0.002018   \n",
       "4                 4        0.019444                  0.001361   \n",
       "\n",
       "   Number of mesh cells  Number of Stokes degrees of freedom  \\\n",
       "0                   256                                 2467   \n",
       "1                   256                                 2467   \n",
       "2                   256                                 2467   \n",
       "3                   256                                 2467   \n",
       "4                   256                                 2467   \n",
       "\n",
       "   Number of temperature degrees of freedom  \\\n",
       "0                                      1089   \n",
       "1                                      1089   \n",
       "2                                      1089   \n",
       "3                                      1089   \n",
       "4                                      1089   \n",
       "\n",
       "   Iterations for temperature solver  Iterations for Stokes solver  \\\n",
       "0                                  0                            31   \n",
       "1                                 31                            32   \n",
       "2                                 20                            31   \n",
       "3                                 15                            30   \n",
       "4                                 13                            29   \n",
       "\n",
       "   Velocity iterations in Stokes preconditioner  \\\n",
       "0                                            33   \n",
       "1                                            34   \n",
       "2                                            33   \n",
       "3                                            32   \n",
       "4                                            31   \n",
       "\n",
       "   Schur complement iterations in Stokes preconditioner  \\\n",
       "0                                                 32      \n",
       "1                                                 34      \n",
       "2                                                 33      \n",
       "3                                                 32      \n",
       "4                                                 31      \n",
       "\n",
       "                ...                Max. velocity (m/s)  \\\n",
       "0               ...                           2.531770   \n",
       "1               ...                           8.377950   \n",
       "2               ...                          15.479564   \n",
       "3               ...                          22.948809   \n",
       "4               ...                          30.430303   \n",
       "\n",
       "   Minimal temperature (K)  Average temperature (K)  Maximal temperature (K)  \\\n",
       "0                      0.0                      0.5                      1.0   \n",
       "1                      0.0                      0.5                      1.0   \n",
       "2                      0.0                      0.5                      1.0   \n",
       "3                      0.0                      0.5                      1.0   \n",
       "4                      0.0                      0.5                      1.0   \n",
       "\n",
       "   Average nondimensional temperature (K)  \\\n",
       "0                                     0.5   \n",
       "1                                     0.5   \n",
       "2                                     0.5   \n",
       "3                                     0.5   \n",
       "4                                     0.5   \n",
       "\n",
       "   Outward heat flux through boundary with indicator 0 (\"left\") (W)  \\\n",
       "0                                                0.0                  \n",
       "1                                                0.0                  \n",
       "2                                                0.0                  \n",
       "3                                                0.0                  \n",
       "4                                                0.0                  \n",
       "\n",
       "   Outward heat flux through boundary with indicator 1 (\"right\") (W)  \\\n",
       "0                                                0.0                   \n",
       "1                                                0.0                   \n",
       "2                                                0.0                   \n",
       "3                                                0.0                   \n",
       "4                                                0.0                   \n",
       "\n",
       "   Outward heat flux through boundary with indicator 2 (\"bottom\") (W)  \\\n",
       "0                                          -1.000000                    \n",
       "1                                          -1.006876                    \n",
       "2                                          -1.023201                    \n",
       "3                                          -1.048978                    \n",
       "4                                          -1.084120                    \n",
       "\n",
       "   Outward heat flux through boundary with indicator 3 (\"top\") (W)  \\\n",
       "0                                           1.000000                 \n",
       "1                                           1.006876                 \n",
       "2                                           1.023201                 \n",
       "3                                           1.048978                 \n",
       "4                                           1.084120                 \n",
       "\n",
       "          Visualization file name  \n",
       "0  output/solution/solution-00000  \n",
       "1  output/solution/solution-00001  \n",
       "2                             NaN  \n",
       "3                             NaN  \n",
       "4                             NaN  \n",
       "\n",
       "[5 rows x 21 columns]"
      ]
     },
     "execution_count": 6,
     "metadata": {},
     "output_type": "execute_result"
    }
   ],
   "source": [
    "data.head()"
   ]
  },
  {
   "cell_type": "markdown",
   "metadata": {},
   "source": [
    "We can then look at the evolution of some of the statistics with time: "
   ]
  },
  {
   "cell_type": "code",
   "execution_count": 7,
   "metadata": {},
   "outputs": [
    {
     "data": {
      "text/plain": [
       "<matplotlib.axes._subplots.AxesSubplot at 0x7f77b99cb4e0>"
      ]
     },
     "execution_count": 7,
     "metadata": {},
     "output_type": "execute_result"
    },
    {
     "data": {
      "image/png": "[encoded data removed]",
      "text/plain": [
       "<Figure size 432x288 with 1 Axes>"
      ]
     },
     "metadata": {
      "needs_background": "light"
     },
     "output_type": "display_data"
    }
   ],
   "source": [
    "data.plot(\"Time (seconds)\", \"RMS velocity (m/s)\")"
   ]
  },
  {
   "cell_type": "code",
   "execution_count": 8,
   "metadata": {
    "scrolled": true
   },
   "outputs": [
    {
     "data": {
      "text/plain": [
       "<matplotlib.legend.Legend at 0x7f77b88634e0>"
      ]
     },
     "execution_count": 8,
     "metadata": {},
     "output_type": "execute_result"
    },
    {
     "data": {
      "image/png": "[encoded data removed]",
      "text/plain": [
       "<Figure size 432x288 with 1 Axes>"
      ]
     },
     "metadata": {
      "needs_background": "light"
     },
     "output_type": "display_data"
    }
   ],
   "source": [
    "fig, ax = plt.subplots()\n",
    "\n",
    "ax.plot(data[\"Time (seconds)\"], data[\"RMS velocity (m/s)\"], label=\"RMS velocity\")\n",
    "ax.plot(data[\"Time (seconds)\"], data[\"Max. velocity (m/s)\"], label=\"Max velocity\")\n",
    "ax.legend()"
   ]
  },
  {
   "cell_type": "markdown",
   "metadata": {},
   "source": [
    "## Visualization files\n",
    "\n",
    "The statistics file includes when visualization files have been created. If they have been written as gnuplot files, then we can read them and plot them. \n",
    "\n",
    "In the example case, the grid is a column of 1 cell width. So the output can be plotted as 1D variable. "
   ]
  },
  {
   "cell_type": "code",
   "execution_count": 9,
   "metadata": {},
   "outputs": [
    {
     "name": "stdout",
     "output_type": "stream",
     "text": [
      "         x        y  velocity_x  velocity_y        p         T\n",
      "0  0.00000  0.00000    0.000000    0.000000  6685.94  1.000000\n",
      "1  0.03125  0.00000    0.248282    0.000000  6685.79  1.000000\n",
      "2  0.06250  0.00000    0.494168    0.000000  6685.63  1.000000\n",
      "3  0.00000  0.03125    0.000000   -0.248278  6676.02  0.967770\n",
      "4  0.03125  0.03125    0.247084   -0.247083  6675.87  0.967775\n"
     ]
    }
   ],
   "source": [
    "# we remove the values from data with NaN in the visualization file name column\n",
    "data = data.dropna(subset=[\"Visualization file name\"])\n",
    "\n",
    "# we store the values for the file names and the associated time. \n",
    "visu_files = data[\"Visualization file name\"].values\n",
    "visu_times = data[\"Time (seconds)\"].values\n",
    "\n",
    "#print(visu_files)\n",
    "\n",
    "df = aspect_data.read_gnuplot_visu(visu_files[0]+\".0000.gnuplot\")\n",
    "print(df.head())"
   ]
  },
  {
   "cell_type": "markdown",
   "metadata": {},
   "source": [
    "### Unstructured grid \n",
    "\n",
    "The points are not always on a structured grid, so tricontourf may be the best way to plot the temperature field for example"
   ]
  },
  {
   "cell_type": "code",
   "execution_count": 10,
   "metadata": {},
   "outputs": [
    {
     "data": {
      "image/png": "[encoded data removed]",
      "text/plain": [
       "<Figure size 1008x216 with 5 Axes>"
      ]
     },
     "metadata": {
      "needs_background": "light"
     },
     "output_type": "display_data"
    }
   ],
   "source": [
    "fig, ax = plt.subplots(1, 5, sharey=True, sharex=True, figsize=[14,3])\n",
    "\n",
    "i=0\n",
    "for time, file in zip(visu_times[:-2:2], visu_files[:-2:2]):\n",
    "    #print(time, file)\n",
    "    file = file+\".0000.gnuplot\"\n",
    "    df = aspect_data.read_gnuplot_visu(file)\n",
    "    #df = df[df[\"x\"]==0.5]\n",
    "    x, y, t = df[\"x\"].values, df[\"y\"].values, df[\"T\"].values\n",
    "    ax[i].tricontourf(x, y, t, 15, vmin=0, vmax=1)\n",
    "    i += 1\n"
   ]
  },
  {
   "cell_type": "markdown",
   "metadata": {},
   "source": [
    "### Structured grid \n",
    "\n",
    "However, for plotting the velocities, it may be easier to interpolate on a structured grid, using griddata from scipy."
   ]
  },
  {
   "cell_type": "code",
   "execution_count": 11,
   "metadata": {},
   "outputs": [
    {
     "data": {
      "text/plain": [
       "(0.0, 1.0, 0.0, 1.0)"
      ]
     },
     "execution_count": 11,
     "metadata": {},
     "output_type": "execute_result"
    },
    {
     "data": {
      "image/png": "[encoded data removed]",
      "text/plain": [
       "<Figure size 432x288 with 2 Axes>"
      ]
     },
     "metadata": {
      "needs_background": "light"
     },
     "output_type": "display_data"
    }
   ],
   "source": [
    "fig, ax = plt.subplots()\n",
    "\n",
    "# define grid.\n",
    "xi = np.linspace(0, 1, 100)\n",
    "yi = np.linspace(0, 1, 100)\n",
    "xi, yi = np.meshgrid(xi, yi)\n",
    "\n",
    "# interpolate the values on the grid for the temperature.\n",
    "Ti = griddata((x, y), t, (xi, yi))\n",
    "# contour the gridded data, plotting dots at the nonuniform data points.\n",
    "#CS = plt.contour(xi, yi, Ti, 15, linewidths=0.5, colors='k')\n",
    "CS = ax.contourf(xi, yi, Ti, 15,\n",
    "                  vmax=1., vmin=0.)\n",
    "fig.colorbar(CS, ax=ax, ticks=[0, 0.5, 1])\n",
    "\n",
    "#grid the velocities\n",
    "vx, vy = df[\"velocity_x\"].values, df[\"velocity_y\"].values\n",
    "Vxi = griddata( (x, y), vx, (xi, yi))\n",
    "Vyi = griddata( (x, y), vy, (xi, yi))\n",
    "ax.streamplot(xi, yi, Vxi, Vyi, density=[0.5,0.5], color='k')\n",
    "\n",
    "ax.axis('equal')\n",
    "ax.set_xlim([0,1])\n",
    "ax.set_ylim([0,1])\n",
    "ax.axis('off')"
   ]
  },
  {
   "cell_type": "code",
   "execution_count": null,
   "metadata": {},
   "outputs": [],
   "source": [
    "\n"
   ]
  },
  {
   "cell_type": "code",
   "execution_count": null,
   "metadata": {},
   "outputs": [],
   "source": []
  }
 ],
 "metadata": {
  "kernelspec": {
   "display_name": "Python 3",
   "language": "python",
   "name": "python3"
  },
  "language_info": {
   "codemirror_mode": {
    "name": "ipython",
    "version": 3
   },
   "file_extension": ".py",
   "mimetype": "text/x-python",
   "name": "python",
   "nbconvert_exporter": "python",
   "pygments_lexer": "ipython3",
   "version": "3.6.6"
  }
 },
 "nbformat": 4,
 "nbformat_minor": 2
}
